{
 "cells": [
  {
   "cell_type": "code",
   "execution_count": null,
   "id": "f74d049a",
   "metadata": {
    "id": "f74d049a"
   },
   "outputs": [],
   "source": [
    "import pandas as pd"
   ]
  },
  {
   "cell_type": "code",
   "execution_count": null,
   "id": "ebd9276a",
   "metadata": {
    "id": "ebd9276a"
   },
   "outputs": [],
   "source": [
    "raw = pd.read_csv(\"../data/GPT-wiki-intro.csv\")"
   ]
  },
  {
   "cell_type": "code",
   "execution_count": null,
   "id": "a8153403",
   "metadata": {
    "id": "a8153403",
    "outputId": "3a89713e-bea4-417c-ea16-5b750989b530"
   },
   "outputs": [
    {
     "data": {
      "text/html": [
       "<div>\n",
       "<style scoped>\n",
       "    .dataframe tbody tr th:only-of-type {\n",
       "        vertical-align: middle;\n",
       "    }\n",
       "\n",
       "    .dataframe tbody tr th {\n",
       "        vertical-align: top;\n",
       "    }\n",
       "\n",
       "    .dataframe thead th {\n",
       "        text-align: right;\n",
       "    }\n",
       "</style>\n",
       "<table border=\"1\" class=\"dataframe\">\n",
       "  <thead>\n",
       "    <tr style=\"text-align: right;\">\n",
       "      <th></th>\n",
       "      <th>id</th>\n",
       "      <th>url</th>\n",
       "      <th>title</th>\n",
       "      <th>wiki_intro</th>\n",
       "      <th>generated_intro</th>\n",
       "      <th>title_len</th>\n",
       "      <th>wiki_intro_len</th>\n",
       "      <th>generated_intro_len</th>\n",
       "      <th>prompt</th>\n",
       "      <th>generated_text</th>\n",
       "      <th>prompt_tokens</th>\n",
       "      <th>generated_text_tokens</th>\n",
       "    </tr>\n",
       "  </thead>\n",
       "  <tbody>\n",
       "    <tr>\n",
       "      <th>0</th>\n",
       "      <td>63064638</td>\n",
       "      <td>https://en.wikipedia.org/wiki/Sexhow%20railway...</td>\n",
       "      <td>Sexhow railway station</td>\n",
       "      <td>Sexhow railway station was a railway station b...</td>\n",
       "      <td>Sexhow railway station was a railway station l...</td>\n",
       "      <td>3</td>\n",
       "      <td>174</td>\n",
       "      <td>78</td>\n",
       "      <td>200 word wikipedia style introduction on 'Sexh...</td>\n",
       "      <td>located in the town of Sexhow, on the Cumbria...</td>\n",
       "      <td>25</td>\n",
       "      <td>88</td>\n",
       "    </tr>\n",
       "    <tr>\n",
       "      <th>1</th>\n",
       "      <td>279621</td>\n",
       "      <td>https://en.wikipedia.org/wiki/Eti%C3%A4inen</td>\n",
       "      <td>Etiäinen</td>\n",
       "      <td>In Finnish folklore, all places and things, an...</td>\n",
       "      <td>In Finnish folklore, all places and things, an...</td>\n",
       "      <td>1</td>\n",
       "      <td>187</td>\n",
       "      <td>80</td>\n",
       "      <td>200 word wikipedia style introduction on 'Etiä...</td>\n",
       "      <td>animate or inanimate, have a spirit or \"etiäi...</td>\n",
       "      <td>26</td>\n",
       "      <td>101</td>\n",
       "    </tr>\n",
       "    <tr>\n",
       "      <th>2</th>\n",
       "      <td>287229</td>\n",
       "      <td>https://en.wikipedia.org/wiki/Inverse%20functi...</td>\n",
       "      <td>Inverse function theorem</td>\n",
       "      <td>In mathematics, specifically differential calc...</td>\n",
       "      <td>In mathematics, specifically differential calc...</td>\n",
       "      <td>3</td>\n",
       "      <td>170</td>\n",
       "      <td>59</td>\n",
       "      <td>200 word wikipedia style introduction on 'Inve...</td>\n",
       "      <td>function theorem states that for every real-v...</td>\n",
       "      <td>26</td>\n",
       "      <td>65</td>\n",
       "    </tr>\n",
       "    <tr>\n",
       "      <th>3</th>\n",
       "      <td>26712375</td>\n",
       "      <td>https://en.wikipedia.org/wiki/Stepping%20on%20...</td>\n",
       "      <td>Stepping on Roses</td>\n",
       "      <td>is a Japanese shōjo manga series written and i...</td>\n",
       "      <td>is a Japanese shōjo manga series written and i...</td>\n",
       "      <td>3</td>\n",
       "      <td>335</td>\n",
       "      <td>121</td>\n",
       "      <td>200 word wikipedia style introduction on 'Step...</td>\n",
       "      <td>and illustrated by Maki Fujii. The series fol...</td>\n",
       "      <td>26</td>\n",
       "      <td>150</td>\n",
       "    </tr>\n",
       "    <tr>\n",
       "      <th>4</th>\n",
       "      <td>38894426</td>\n",
       "      <td>https://en.wikipedia.org/wiki/Rob%20Bradley</td>\n",
       "      <td>Rob Bradley</td>\n",
       "      <td>Robert Milner \"Rob\" Bradley, Jr. (born August ...</td>\n",
       "      <td>Robert Milner \"Rob\" Bradley, Jr. (born August ...</td>\n",
       "      <td>2</td>\n",
       "      <td>170</td>\n",
       "      <td>136</td>\n",
       "      <td>200 word wikipedia style introduction on 'Rob ...</td>\n",
       "      <td>29, 1973) is an American former professional ...</td>\n",
       "      <td>28</td>\n",
       "      <td>162</td>\n",
       "    </tr>\n",
       "  </tbody>\n",
       "</table>\n",
       "</div>"
      ],
      "text/plain": [
       "         id                                                url  \\\n",
       "0  63064638  https://en.wikipedia.org/wiki/Sexhow%20railway...   \n",
       "1    279621        https://en.wikipedia.org/wiki/Eti%C3%A4inen   \n",
       "2    287229  https://en.wikipedia.org/wiki/Inverse%20functi...   \n",
       "3  26712375  https://en.wikipedia.org/wiki/Stepping%20on%20...   \n",
       "4  38894426        https://en.wikipedia.org/wiki/Rob%20Bradley   \n",
       "\n",
       "                      title  \\\n",
       "0    Sexhow railway station   \n",
       "1                  Etiäinen   \n",
       "2  Inverse function theorem   \n",
       "3         Stepping on Roses   \n",
       "4               Rob Bradley   \n",
       "\n",
       "                                          wiki_intro  \\\n",
       "0  Sexhow railway station was a railway station b...   \n",
       "1  In Finnish folklore, all places and things, an...   \n",
       "2  In mathematics, specifically differential calc...   \n",
       "3  is a Japanese shōjo manga series written and i...   \n",
       "4  Robert Milner \"Rob\" Bradley, Jr. (born August ...   \n",
       "\n",
       "                                     generated_intro  title_len  \\\n",
       "0  Sexhow railway station was a railway station l...          3   \n",
       "1  In Finnish folklore, all places and things, an...          1   \n",
       "2  In mathematics, specifically differential calc...          3   \n",
       "3  is a Japanese shōjo manga series written and i...          3   \n",
       "4  Robert Milner \"Rob\" Bradley, Jr. (born August ...          2   \n",
       "\n",
       "   wiki_intro_len  generated_intro_len  \\\n",
       "0             174                   78   \n",
       "1             187                   80   \n",
       "2             170                   59   \n",
       "3             335                  121   \n",
       "4             170                  136   \n",
       "\n",
       "                                              prompt  \\\n",
       "0  200 word wikipedia style introduction on 'Sexh...   \n",
       "1  200 word wikipedia style introduction on 'Etiä...   \n",
       "2  200 word wikipedia style introduction on 'Inve...   \n",
       "3  200 word wikipedia style introduction on 'Step...   \n",
       "4  200 word wikipedia style introduction on 'Rob ...   \n",
       "\n",
       "                                      generated_text  prompt_tokens  \\\n",
       "0   located in the town of Sexhow, on the Cumbria...             25   \n",
       "1   animate or inanimate, have a spirit or \"etiäi...             26   \n",
       "2   function theorem states that for every real-v...             26   \n",
       "3   and illustrated by Maki Fujii. The series fol...             26   \n",
       "4   29, 1973) is an American former professional ...             28   \n",
       "\n",
       "   generated_text_tokens  \n",
       "0                     88  \n",
       "1                    101  \n",
       "2                     65  \n",
       "3                    150  \n",
       "4                    162  "
      ]
     },
     "execution_count": 3,
     "metadata": {},
     "output_type": "execute_result"
    }
   ],
   "source": [
    "raw.head()"
   ]
  },
  {
   "cell_type": "code",
   "execution_count": null,
   "id": "18fc656c",
   "metadata": {
    "id": "18fc656c",
    "outputId": "328082d2-bb40-41af-ca7d-bf3303009931"
   },
   "outputs": [
    {
     "data": {
      "text/plain": [
       "Index(['id', 'url', 'title', 'wiki_intro', 'generated_intro', 'title_len',\n",
       "       'wiki_intro_len', 'generated_intro_len', 'prompt', 'generated_text',\n",
       "       'prompt_tokens', 'generated_text_tokens'],\n",
       "      dtype='object')"
      ]
     },
     "execution_count": 4,
     "metadata": {},
     "output_type": "execute_result"
    }
   ],
   "source": [
    "raw.columns"
   ]
  },
  {
   "cell_type": "code",
   "execution_count": null,
   "id": "40833fe8",
   "metadata": {
    "id": "40833fe8",
    "outputId": "c0c07c33-e890-4d02-fa3f-e62a91233128"
   },
   "outputs": [
    {
     "data": {
      "text/html": [
       "<div>\n",
       "<style scoped>\n",
       "    .dataframe tbody tr th:only-of-type {\n",
       "        vertical-align: middle;\n",
       "    }\n",
       "\n",
       "    .dataframe tbody tr th {\n",
       "        vertical-align: top;\n",
       "    }\n",
       "\n",
       "    .dataframe thead th {\n",
       "        text-align: right;\n",
       "    }\n",
       "</style>\n",
       "<table border=\"1\" class=\"dataframe\">\n",
       "  <thead>\n",
       "    <tr style=\"text-align: right;\">\n",
       "      <th></th>\n",
       "      <th>text</th>\n",
       "      <th>label</th>\n",
       "    </tr>\n",
       "  </thead>\n",
       "  <tbody>\n",
       "    <tr>\n",
       "      <th>0</th>\n",
       "      <td>Aston Medical School (AMS) is part of Aston Un...</td>\n",
       "      <td>0</td>\n",
       "    </tr>\n",
       "    <tr>\n",
       "      <th>1</th>\n",
       "      <td>Alexander Altmann (April 16, 1906 – June 5, 19...</td>\n",
       "      <td>1</td>\n",
       "    </tr>\n",
       "    <tr>\n",
       "      <th>2</th>\n",
       "      <td>Edward Nassour (April 7, 1911 – December 12, 1...</td>\n",
       "      <td>1</td>\n",
       "    </tr>\n",
       "    <tr>\n",
       "      <th>3</th>\n",
       "      <td>Ebenezer Rockwood Hoar (February 21, 1816 – Ja...</td>\n",
       "      <td>0</td>\n",
       "    </tr>\n",
       "    <tr>\n",
       "      <th>4</th>\n",
       "      <td>Larinioides sclopetarius, commonly called brid...</td>\n",
       "      <td>1</td>\n",
       "    </tr>\n",
       "  </tbody>\n",
       "</table>\n",
       "</div>"
      ],
      "text/plain": [
       "                                                text  label\n",
       "0  Aston Medical School (AMS) is part of Aston Un...      0\n",
       "1  Alexander Altmann (April 16, 1906 – June 5, 19...      1\n",
       "2  Edward Nassour (April 7, 1911 – December 12, 1...      1\n",
       "3  Ebenezer Rockwood Hoar (February 21, 1816 – Ja...      0\n",
       "4  Larinioides sclopetarius, commonly called brid...      1"
      ]
     },
     "execution_count": 5,
     "metadata": {},
     "output_type": "execute_result"
    }
   ],
   "source": [
    "# Split DataFrame\n",
    "human_df = raw[['wiki_intro']].copy()\n",
    "ai_df = raw[[['generated_intro']].copy()\n",
    "\n",
    "# Assign Labels\n",
    "human_df['label'] = 0\n",
    "ai_df['label'] = 1\n",
    "\n",
    "# Rename columns to 'text'\n",
    "human_df.rename(columns={'wiki_intro': 'text'}, inplace=True)\n",
    "ai_df.rename(columns={'generated_intro': 'text'}, inplace=True)\n",
    "\n",
    "# Concatenate DataFrames\n",
    "combined_df = pd.concat([human_df, ai_df], ignore_index=True)\n",
    "\n",
    "# Shuffle rows (optional)\n",
    "combined_df = combined_df.sample(frac=1).reset_index(drop=True)\n",
    "\n",
    "# Now, 'combined_df' has two columns: 'text' and 'label'\n",
    "combined_df.head()"
   ]
  },
  {
   "cell_type": "code",
   "execution_count": null,
   "id": "9e878189",
   "metadata": {
    "id": "9e878189",
    "outputId": "9be3027f-ca3d-4e17-811e-5ab6f17b8b92"
   },
   "outputs": [
    {
     "data": {
      "text/plain": [
       "(300000, 2)"
      ]
     },
     "execution_count": 6,
     "metadata": {},
     "output_type": "execute_result"
    }
   ],
   "source": [
    "combined_df.shape"
   ]
  },
  {
   "cell_type": "code",
   "execution_count": null,
   "id": "104f71d9",
   "metadata": {
    "id": "104f71d9"
   },
   "outputs": [],
   "source": [
    "combined_df.to_csv(\"../data/shuffled_data.csv\", index=False)"
   ]
  },
  {
   "cell_type": "code",
   "execution_count": null,
   "id": "63e687e1",
   "metadata": {
    "id": "63e687e1"
   },
   "outputs": [],
   "source": [
    "df = pd.read_csv(\"../data/shuffled_data.csv\")"
   ]
  },
  {
   "cell_type": "code",
   "execution_count": null,
   "id": "eac80728",
   "metadata": {
    "id": "eac80728",
    "outputId": "77d057b7-a14c-4c86-9be8-5dec36c1cee9"
   },
   "outputs": [
    {
     "data": {
      "text/html": [
       "<div>\n",
       "<style scoped>\n",
       "    .dataframe tbody tr th:only-of-type {\n",
       "        vertical-align: middle;\n",
       "    }\n",
       "\n",
       "    .dataframe tbody tr th {\n",
       "        vertical-align: top;\n",
       "    }\n",
       "\n",
       "    .dataframe thead th {\n",
       "        text-align: right;\n",
       "    }\n",
       "</style>\n",
       "<table border=\"1\" class=\"dataframe\">\n",
       "  <thead>\n",
       "    <tr style=\"text-align: right;\">\n",
       "      <th></th>\n",
       "      <th>text</th>\n",
       "      <th>label</th>\n",
       "    </tr>\n",
       "  </thead>\n",
       "  <tbody>\n",
       "    <tr>\n",
       "      <th>0</th>\n",
       "      <td>Aston Medical School (AMS) is part of Aston Un...</td>\n",
       "      <td>0</td>\n",
       "    </tr>\n",
       "    <tr>\n",
       "      <th>1</th>\n",
       "      <td>Alexander Altmann (April 16, 1906 – June 5, 19...</td>\n",
       "      <td>1</td>\n",
       "    </tr>\n",
       "    <tr>\n",
       "      <th>2</th>\n",
       "      <td>Edward Nassour (April 7, 1911 – December 12, 1...</td>\n",
       "      <td>1</td>\n",
       "    </tr>\n",
       "    <tr>\n",
       "      <th>3</th>\n",
       "      <td>Ebenezer Rockwood Hoar (February 21, 1816 – Ja...</td>\n",
       "      <td>0</td>\n",
       "    </tr>\n",
       "    <tr>\n",
       "      <th>4</th>\n",
       "      <td>Larinioides sclopetarius, commonly called brid...</td>\n",
       "      <td>1</td>\n",
       "    </tr>\n",
       "  </tbody>\n",
       "</table>\n",
       "</div>"
      ],
      "text/plain": [
       "                                                text  label\n",
       "0  Aston Medical School (AMS) is part of Aston Un...      0\n",
       "1  Alexander Altmann (April 16, 1906 – June 5, 19...      1\n",
       "2  Edward Nassour (April 7, 1911 – December 12, 1...      1\n",
       "3  Ebenezer Rockwood Hoar (February 21, 1816 – Ja...      0\n",
       "4  Larinioides sclopetarius, commonly called brid...      1"
      ]
     },
     "execution_count": 9,
     "metadata": {},
     "output_type": "execute_result"
    }
   ],
   "source": [
    "df.head()"
   ]
  },
  {
   "cell_type": "code",
   "execution_count": null,
   "id": "19b4ef7a",
   "metadata": {
    "id": "19b4ef7a"
   },
   "outputs": [],
   "source": []
  }
 ],
 "metadata": {
  "colab": {
   "provenance": []
  },
  "kernelspec": {
   "display_name": "Python 3 (ipykernel)",
   "language": "python",
   "name": "python3"
  },
  "language_info": {
   "codemirror_mode": {
    "name": "ipython",
    "version": 3
   },
   "file_extension": ".py",
   "mimetype": "text/x-python",
   "name": "python",
   "nbconvert_exporter": "python",
   "pygments_lexer": "ipython3",
   "version": "3.9.12"
  }
 },
 "nbformat": 4,
 "nbformat_minor": 5
}
