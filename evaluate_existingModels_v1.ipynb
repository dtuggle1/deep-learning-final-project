{
 "cells": [
  {
   "cell_type": "code",
   "execution_count": 38,
   "metadata": {},
   "outputs": [],
   "source": [
    "import torch\n",
    "from torch.utils.data import DataLoader\n",
    "import os\n",
    "from utils import *\n",
    "import matplotlib.pyplot as plt\n",
    "import numpy as np\n",
    "import yaml\n",
    "from sklearn.metrics import recall_score, precision_score, accuracy_score, f1_score, confusion_matrix"
   ]
  },
  {
   "cell_type": "code",
   "execution_count": 39,
   "metadata": {},
   "outputs": [],
   "source": [
    "# please make sure that CONFIG is the same one used to generate the loaded model\n",
    "CONFIG = 'bert_1.yml'"
   ]
  },
  {
   "cell_type": "code",
   "execution_count": 40,
   "metadata": {},
   "outputs": [],
   "source": [
    "def pick_device(config):\n",
    "    if config['device'] == 'gpu':\n",
    "        if torch.cuda.is_available():\n",
    "            device_type = \"cuda\"\n",
    "        else:\n",
    "            device_type = \"cpu\"\n",
    "        print(f\"using device type: {device_type}\")\n",
    "        device = torch.device(device_type)\n",
    "    return device"
   ]
  },
  {
   "cell_type": "code",
   "execution_count": 41,
   "metadata": {},
   "outputs": [
    {
     "name": "stdout",
     "output_type": "stream",
     "text": [
      "config:\n",
      "{'test_data_pct': 0.8, 'learning_rate': '1e-3', 'bert_type': 'tinybert', 'epochs': 15, 'batch_size': 64, 'max_len': 200, 'device': 'gpu', 'data_file': 'shuffled_data.csv'}\n",
      "using device type: cpu\n"
     ]
    },
    {
     "name": "stderr",
     "output_type": "stream",
     "text": [
      "Some weights of the model checkpoint at prajjwal1/bert-tiny were not used when initializing BertForSequenceClassification: ['cls.predictions.transform.LayerNorm.weight', 'cls.predictions.decoder.weight', 'cls.predictions.transform.LayerNorm.bias', 'cls.seq_relationship.weight', 'cls.seq_relationship.bias', 'cls.predictions.bias', 'cls.predictions.decoder.bias', 'cls.predictions.transform.dense.bias', 'cls.predictions.transform.dense.weight']\n",
      "- This IS expected if you are initializing BertForSequenceClassification from the checkpoint of a model trained on another task or with another architecture (e.g. initializing a BertForSequenceClassification model from a BertForPreTraining model).\n",
      "- This IS NOT expected if you are initializing BertForSequenceClassification from the checkpoint of a model that you expect to be exactly identical (initializing a BertForSequenceClassification model from a BertForSequenceClassification model).\n",
      "Some weights of BertForSequenceClassification were not initialized from the model checkpoint at prajjwal1/bert-tiny and are newly initialized: ['classifier.bias', 'classifier.weight']\n",
      "You should probably TRAIN this model on a down-stream task to be able to use it for predictions and inference.\n"
     ]
    }
   ],
   "source": [
    "# load data\n",
    "with open(os.path.join('configs', CONFIG),'r') as file:\n",
    "        config = yaml.safe_load(file)\n",
    "print('config:')\n",
    "print(config)\n",
    "\n",
    "device = pick_device(config)\n",
    "torch.cuda.empty_cache()\n",
    "\n",
    "tokenizer, model, optimizer = load_model(config['bert_type'], float(config['learning_rate']), device)\n",
    "\n",
    "data = load_data('data', config['data_file'])\n",
    "train_data_loader, test_data_loader = process_data(data, tokenizer, test_size=config['test_data_pct'], max_len=config['max_len'], batch_size=config['batch_size'])"
   ]
  },
  {
   "cell_type": "code",
   "execution_count": 42,
   "metadata": {},
   "outputs": [],
   "source": [
    "# metrics scores\n",
    "def metrics_scores(y_pred, y_true):\n",
    "\n",
    "    y_true = np.array(y_true)\n",
    "    y_pred = np.array(y_pred)\n",
    "\n",
    "    accuracy = accuracy_score(y_true, y_pred)\n",
    "    recall = recall_score(y_true, y_pred)\n",
    "    precision = precision_score(y_true, y_pred)\n",
    "    f1 = f1_score(y_true, y_pred)\n",
    "    confusion = confusion_matrix(y_true, y_pred)\n",
    "\n",
    "    return accuracy, recall, precision, f1, confusion"
   ]
  },
  {
   "cell_type": "code",
   "execution_count": 48,
   "metadata": {},
   "outputs": [
    {
     "name": "stdout",
     "output_type": "stream",
     "text": [
      "loaded_state_dict is dictionary-like.\n"
     ]
    },
    {
     "data": {
      "text/plain": [
       "BertForSequenceClassification(\n",
       "  (bert): BertModel(\n",
       "    (embeddings): BertEmbeddings(\n",
       "      (word_embeddings): Embedding(30522, 128, padding_idx=0)\n",
       "      (position_embeddings): Embedding(512, 128)\n",
       "      (token_type_embeddings): Embedding(2, 128)\n",
       "      (LayerNorm): LayerNorm((128,), eps=1e-12, elementwise_affine=True)\n",
       "      (dropout): Dropout(p=0.1, inplace=False)\n",
       "    )\n",
       "    (encoder): BertEncoder(\n",
       "      (layer): ModuleList(\n",
       "        (0-1): 2 x BertLayer(\n",
       "          (attention): BertAttention(\n",
       "            (self): BertSelfAttention(\n",
       "              (query): Linear(in_features=128, out_features=128, bias=True)\n",
       "              (key): Linear(in_features=128, out_features=128, bias=True)\n",
       "              (value): Linear(in_features=128, out_features=128, bias=True)\n",
       "              (dropout): Dropout(p=0.1, inplace=False)\n",
       "            )\n",
       "            (output): BertSelfOutput(\n",
       "              (dense): Linear(in_features=128, out_features=128, bias=True)\n",
       "              (LayerNorm): LayerNorm((128,), eps=1e-12, elementwise_affine=True)\n",
       "              (dropout): Dropout(p=0.1, inplace=False)\n",
       "            )\n",
       "          )\n",
       "          (intermediate): BertIntermediate(\n",
       "            (dense): Linear(in_features=128, out_features=512, bias=True)\n",
       "            (intermediate_act_fn): GELUActivation()\n",
       "          )\n",
       "          (output): BertOutput(\n",
       "            (dense): Linear(in_features=512, out_features=128, bias=True)\n",
       "            (LayerNorm): LayerNorm((128,), eps=1e-12, elementwise_affine=True)\n",
       "            (dropout): Dropout(p=0.1, inplace=False)\n",
       "          )\n",
       "        )\n",
       "      )\n",
       "    )\n",
       "    (pooler): BertPooler(\n",
       "      (dense): Linear(in_features=128, out_features=128, bias=True)\n",
       "      (activation): Tanh()\n",
       "    )\n",
       "  )\n",
       "  (dropout): Dropout(p=0.1, inplace=False)\n",
       "  (classifier): Linear(in_features=128, out_features=2, bias=True)\n",
       ")"
      ]
     },
     "execution_count": 48,
     "metadata": {},
     "output_type": "execute_result"
    }
   ],
   "source": [
    "# load trained model .pth \n",
    "# please adjust the path of the .pth file\n",
    "model_pthFile = '.../models/1689776953_8841338.pth'\n",
    "loaded_state = torch.load(model_pthFile)\n",
    "loaded_state_dict = loaded_state.state_dict()\n",
    "\n",
    "if isinstance(loaded_state_dict, dict):\n",
    "    print(\"loaded_state_dict is dictionary-like.\")\n",
    "else:\n",
    "    print(\"loaded_state_dict is not dictionary-like.\")\n",
    "\n",
    "model.load_state_dict(loaded_state_dict)\n",
    "\n",
    "model.eval()"
   ]
  },
  {
   "cell_type": "code",
   "execution_count": 50,
   "metadata": {},
   "outputs": [],
   "source": [
    "def evaluate(model, data_loader, device):\n",
    "    model_eval = model.eval()\n",
    "    correct = 0\n",
    "    total = 0\n",
    "\n",
    "    predictions = []\n",
    "    labels = []\n",
    "\n",
    "    with torch.no_grad():\n",
    "        for batch in data_loader:\n",
    "            input_ids = batch[\"input_ids\"].to(device)\n",
    "            attention_mask = batch[\"attention_mask\"].to(device)\n",
    "            local_labels = batch[\"labels\"].to(device)\n",
    "\n",
    "            outputs = model_eval(\n",
    "                input_ids=input_ids,\n",
    "                attention_mask=attention_mask\n",
    "            )\n",
    "\n",
    "            _, local_predictions = torch.max(outputs.logits, dim=1)\n",
    "\n",
    "            correct += torch.sum(local_predictions == local_labels)\n",
    "            total += local_labels.shape[0]\n",
    "\n",
    "            predictions.extend(local_predictions)\n",
    "            labels.extend(local_labels)\n",
    "            \n",
    "            \n",
    "    accuracy = correct/total\n",
    "    \n",
    "    return accuracy.item()"
   ]
  },
  {
   "cell_type": "code",
   "execution_count": 51,
   "metadata": {},
   "outputs": [],
   "source": [
    "accuracies = {}\n",
    "accuracies['initial test'] = evaluate(model, test_data_loader, device)"
   ]
  },
  {
   "cell_type": "code",
   "execution_count": 52,
   "metadata": {},
   "outputs": [
    {
     "name": "stdout",
     "output_type": "stream",
     "text": [
      "0.9544666409492493\n"
     ]
    }
   ],
   "source": [
    "print(accuracies['initial test'])"
   ]
  },
  {
   "cell_type": "code",
   "execution_count": null,
   "metadata": {},
   "outputs": [],
   "source": [
    "''''\n",
    "# not completed, still working on\n",
    "\n",
    "# SHARP, heat map \n",
    "\n",
    "from captum.attr import GradientShap\n",
    "\n",
    "# Create a GradientShap instance\n",
    "gradient_shap = GradientShap(model)\n",
    "\n",
    "reference_scores = []\n",
    "y_pred = []\n",
    "\n",
    "saliency_values_list = []\n",
    "for inputs, targets in test_data_loader:\n",
    "    # compute saliency values\n",
    "    saliency_values = gradient_shap.attribute(X_val)\n",
    "\n",
    "    # convert saliency values to absolute values\n",
    "    saliency_values_abs = torch.abs(saliency_values)\n",
    "\n",
    "    # heat map\n",
    "    saliency_heatmap = saliency_values_abs.sum(dim=1)\n",
    "    \n",
    "    saliency_values_list.append(saliency_heatmap.detach().numpy())\n",
    "\n",
    "saliency_mean = np.mean(saliency_values_list)\n",
    "\n",
    "plt.imshow(saliency_mean, cmap = 'hot', alpha=0.8)   \n",
    "plt.show()\n",
    "'''"
   ]
  }
 ],
 "metadata": {
  "kernelspec": {
   "display_name": "chatjbd",
   "language": "python",
   "name": "python3"
  },
  "language_info": {
   "codemirror_mode": {
    "name": "ipython",
    "version": 3
   },
   "file_extension": ".py",
   "mimetype": "text/x-python",
   "name": "python",
   "nbconvert_exporter": "python",
   "pygments_lexer": "ipython3",
   "version": "3.8.10"
  },
  "orig_nbformat": 4
 },
 "nbformat": 4,
 "nbformat_minor": 2
}
